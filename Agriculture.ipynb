{
 "cells": [
  {
   "cell_type": "code",
   "execution_count": 1,
   "id": "6811bc3b",
   "metadata": {},
   "outputs": [],
   "source": [
    "# Libraries for data manipulation and visualization\n",
    "import pandas as pd # for data manipulation \n",
    "import numpy as np # for data manipulation \n",
    "import seaborn as sns # for data visualization\n",
    "import matplotlib.pyplot as plt # for data visualization\n",
    "\n",
    "# Libraries for clustering\n",
    "from sklearn.cluster import KMeans\n",
    "from yellowbrick.cluster import KElbowVisualizer,SilhouetteVisualizer\n",
    "from sklearn.metrics import silhouette_score\n",
    "\n",
    "# Success metrics for the models\n",
    "from sklearn.metrics import accuracy_score,precision_score,recall_score, confusion_matrix,f1_score\n",
    "from sklearn.preprocessing import MinMaxScaler # to scale the numeric features \n",
    "from sklearn.model_selection import train_test_split,cross_val_score #splitting the dataset into test-train\n",
    "from sklearn.model_selection import GridSearchCV #GridSearchCV parameter optimization\n",
    "\n",
    "# Statistical libraries\n",
    "import researchpy as rp #!pip install researchpy\n",
    "from scipy.stats import shapiro,kruskal\n",
    "import pylab\n",
    "\n",
    "# Algorithms for using supervised learning methods\n",
    "from sklearn.ensemble import RandomForestClassifier\n",
    "from sklearn.tree import DecisionTreeClassifier\n",
    "from sklearn.linear_model import LogisticRegression\n",
    "from sklearn.neighbors import KNeighborsClassifier\n",
    "\n",
    "from warnings import filterwarnings\n",
    "filterwarnings('ignore')"
   ]
  },
  {
   "cell_type": "markdown",
   "id": "4bb52777",
   "metadata": {},
   "source": [
    "Creating the Dataset from CSVs"
   ]
  },
  {
   "cell_type": "code",
   "execution_count": null,
   "id": "0188b8a7",
   "metadata": {},
   "outputs": [],
   "source": []
  }
 ],
 "metadata": {
  "kernelspec": {
   "display_name": "Python 3 (ipykernel)",
   "language": "python",
   "name": "python3"
  },
  "language_info": {
   "codemirror_mode": {
    "name": "ipython",
    "version": 3
   },
   "file_extension": ".py",
   "mimetype": "text/x-python",
   "name": "python",
   "nbconvert_exporter": "python",
   "pygments_lexer": "ipython3",
   "version": "3.11.1"
  }
 },
 "nbformat": 4,
 "nbformat_minor": 5
}
