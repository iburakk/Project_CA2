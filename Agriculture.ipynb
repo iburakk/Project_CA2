{
 "cells": [
  {
   "cell_type": "code",
   "execution_count": 1,
   "id": "7c1b363d",
   "metadata": {},
   "outputs": [],
   "source": [
    "# Libraries for data manipulation and visualization\n",
    "import pandas as pd # for data manipulation \n",
    "import numpy as np # for data manipulation \n",
    "import seaborn as sns # for data visualization\n",
    "import matplotlib.pyplot as plt # for data visualization\n",
    "\n",
    "# Libraries for clustering\n",
    "from sklearn.cluster import KMeans\n",
    "from yellowbrick.cluster import KElbowVisualizer,SilhouetteVisualizer\n",
    "from sklearn.metrics import silhouette_score\n",
    "\n",
    "# Success metrics for the models\n",
    "from sklearn.metrics import accuracy_score,precision_score,recall_score, confusion_matrix,f1_score\n",
    "from sklearn.preprocessing import MinMaxScaler # to scale the numeric features \n",
    "from sklearn.model_selection import train_test_split,cross_val_score #splitting the dataset into test-train\n",
    "from sklearn.model_selection import GridSearchCV #GridSearchCV parameter optimization\n",
    "\n",
    "# Statistical libraries\n",
    "import researchpy as rp #!pip install researchpy\n",
    "from scipy.stats import shapiro,kruskal\n",
    "import pylab\n",
    "\n",
    "# Algorithms for using supervised learning methods\n",
    "from sklearn.ensemble import RandomForestClassifier\n",
    "from sklearn.tree import DecisionTreeClassifier\n",
    "from sklearn.linear_model import LogisticRegression\n",
    "from sklearn.neighbors import KNeighborsClassifier\n",
    "\n",
    "from warnings import filterwarnings\n",
    "filterwarnings('ignore')"
   ]
  },
  {
   "cell_type": "markdown",
   "id": "12b7c5d3",
   "metadata": {},
   "source": [
    "Creating the Dataset from CSVs"
   ]
  },
  {
   "cell_type": "markdown",
   "id": "d0b1ec14",
   "metadata": {},
   "source": [
    "Part 1: Animal Products Datasets"
   ]
  },
  {
   "cell_type": "code",
   "execution_count": 3,
   "id": "193ba11f",
   "metadata": {},
   "outputs": [
    {
     "data": {
      "text/html": [
       "<div>\n",
       "<style scoped>\n",
       "    .dataframe tbody tr th:only-of-type {\n",
       "        vertical-align: middle;\n",
       "    }\n",
       "\n",
       "    .dataframe tbody tr th {\n",
       "        vertical-align: top;\n",
       "    }\n",
       "\n",
       "    .dataframe thead th {\n",
       "        text-align: right;\n",
       "    }\n",
       "</style>\n",
       "<table border=\"1\" class=\"dataframe\">\n",
       "  <thead>\n",
       "    <tr style=\"text-align: right;\">\n",
       "      <th></th>\n",
       "      <th>Entity</th>\n",
       "      <th>Code</th>\n",
       "      <th>Year</th>\n",
       "      <th>Fish and seafood | 00002960 || Production | 005511 || tonnes</th>\n",
       "    </tr>\n",
       "  </thead>\n",
       "  <tbody>\n",
       "    <tr>\n",
       "      <th>0</th>\n",
       "      <td>Afghanistan</td>\n",
       "      <td>AFG</td>\n",
       "      <td>1961</td>\n",
       "      <td>300.0</td>\n",
       "    </tr>\n",
       "    <tr>\n",
       "      <th>1</th>\n",
       "      <td>Afghanistan</td>\n",
       "      <td>AFG</td>\n",
       "      <td>1962</td>\n",
       "      <td>300.0</td>\n",
       "    </tr>\n",
       "    <tr>\n",
       "      <th>2</th>\n",
       "      <td>Afghanistan</td>\n",
       "      <td>AFG</td>\n",
       "      <td>1963</td>\n",
       "      <td>300.0</td>\n",
       "    </tr>\n",
       "    <tr>\n",
       "      <th>3</th>\n",
       "      <td>Afghanistan</td>\n",
       "      <td>AFG</td>\n",
       "      <td>1964</td>\n",
       "      <td>300.0</td>\n",
       "    </tr>\n",
       "    <tr>\n",
       "      <th>4</th>\n",
       "      <td>Afghanistan</td>\n",
       "      <td>AFG</td>\n",
       "      <td>1965</td>\n",
       "      <td>300.0</td>\n",
       "    </tr>\n",
       "  </tbody>\n",
       "</table>\n",
       "</div>"
      ],
      "text/plain": [
       "        Entity Code  Year  \\\n",
       "0  Afghanistan  AFG  1961   \n",
       "1  Afghanistan  AFG  1962   \n",
       "2  Afghanistan  AFG  1963   \n",
       "3  Afghanistan  AFG  1964   \n",
       "4  Afghanistan  AFG  1965   \n",
       "\n",
       "   Fish and seafood | 00002960 || Production | 005511 || tonnes  \n",
       "0                                              300.0             \n",
       "1                                              300.0             \n",
       "2                                              300.0             \n",
       "3                                              300.0             \n",
       "4                                              300.0             "
      ]
     },
     "execution_count": 3,
     "metadata": {},
     "output_type": "execute_result"
    }
   ],
   "source": [
    "df_fish_seafood_production = pd.read_csv(\"fish-seafood-production.csv\")\n",
    "df_fish_seafood_production.head()"
   ]
  },
  {
   "cell_type": "code",
   "execution_count": null,
   "id": "2d3bb74b",
   "metadata": {},
   "outputs": [],
   "source": []
  }
 ],
 "metadata": {
  "kernelspec": {
   "display_name": "Python 3 (ipykernel)",
   "language": "python",
   "name": "python3"
  },
  "language_info": {
   "codemirror_mode": {
    "name": "ipython",
    "version": 3
   },
   "file_extension": ".py",
   "mimetype": "text/x-python",
   "name": "python",
   "nbconvert_exporter": "python",
   "pygments_lexer": "ipython3",
   "version": "3.11.1"
  }
 },
 "nbformat": 4,
 "nbformat_minor": 5
}
